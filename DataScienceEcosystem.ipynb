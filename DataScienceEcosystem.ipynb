{
 "cells": [
  {
   "cell_type": "markdown",
   "id": "3355a02e-1c47-414e-8921-4fefe580f94a",
   "metadata": {},
   "source": [
    "# Data Science Tools and Ecosystem"
   ]
  },
  {
   "cell_type": "markdown",
   "id": "f8d54d91-da2d-4c3a-b357-a152f6da859e",
   "metadata": {},
   "source": [
    "**Objectives:**"
   ]
  },
  {
   "cell_type": "markdown",
   "id": "19542b76-ee11-4315-a72d-0fb8c706aeee",
   "metadata": {},
   "source": [
    "* Add comments to code\n",
    "* Create markdown cells\n",
    "* Add ordered and unordered lists to markdown\n",
    "* Format the markdown cells with headings"
   ]
  },
  {
   "cell_type": "markdown",
   "id": "13821b52-efeb-4913-be94-14e1c78388ca",
   "metadata": {},
   "source": [
    "In this notebook, Data Science Tools and Ecosystem are summarized."
   ]
  },
  {
   "cell_type": "markdown",
   "id": "d88e6175-6036-470c-bb69-d6fa570d7181",
   "metadata": {},
   "source": [
    "Some of the popular languages that Data Scientists use are:"
   ]
  },
  {
   "cell_type": "markdown",
   "id": "59be5034-a879-48d5-8219-24b5ff8ff697",
   "metadata": {},
   "source": [
    "1. Python\n",
    "2. C\n",
    "3. R\n",
    "4. C++\n",
    "5. Java"
   ]
  },
  {
   "cell_type": "markdown",
   "id": "182a4379-a443-4e02-b305-35d6b5717433",
   "metadata": {},
   "source": [
    "Some of the commonly used libraries used by Data Scientists include:"
   ]
  },
  {
   "cell_type": "markdown",
   "id": "ecf49193-049c-41fa-92eb-7a728050dbcc",
   "metadata": {},
   "source": [
    "1. Pandas\n",
    "2. Scipy\n",
    "3. Plotly\n",
    "4. Seaborn\n",
    "5. Numpy"
   ]
  },
  {
   "cell_type": "markdown",
   "id": "6bd15435-abfc-4bb7-a94f-a99a673f15cd",
   "metadata": {},
   "source": [
    "| Data Science Tools |\n",
    "| -------------------|\n",
    "| Anaconda |\n",
    "| Jupyter Notebooks |\n",
    "| R Studio |\n",
    "| Spyder |\n",
    "| Visual Studio |"
   ]
  },
  {
   "cell_type": "markdown",
   "id": "700ced65-b608-4335-a831-04c7ba94936c",
   "metadata": {},
   "source": [
    "### Below are a few examples of evaluating arithmetic expressions in Python"
   ]
  },
  {
   "cell_type": "markdown",
   "id": "6d7b7f2d-57d1-4425-a46b-6c98a7ce276c",
   "metadata": {},
   "source": [
    "This a simple arithmetic expression to mutiply then add integers"
   ]
  },
  {
   "cell_type": "code",
   "execution_count": 1,
   "id": "067b93f6-a86e-45a5-8c44-b9e8d660e07d",
   "metadata": {
    "tags": []
   },
   "outputs": [
    {
     "data": {
      "text/plain": [
       "17"
      ]
     },
     "execution_count": 1,
     "metadata": {},
     "output_type": "execute_result"
    }
   ],
   "source": [
    "(3*4)+5"
   ]
  },
  {
   "cell_type": "markdown",
   "id": "eb6f682b-2479-4088-95a3-27a660b87066",
   "metadata": {},
   "source": [
    "This will convert 200 minutes to hours by diving by 60"
   ]
  },
  {
   "cell_type": "code",
   "execution_count": 2,
   "id": "bb7aab85-f924-479d-bfe8-b83be4f76d72",
   "metadata": {
    "tags": []
   },
   "outputs": [
    {
     "data": {
      "text/plain": [
       "3.3333333333333335"
      ]
     },
     "execution_count": 2,
     "metadata": {},
     "output_type": "execute_result"
    }
   ],
   "source": [
    "200/60"
   ]
  },
  {
   "cell_type": "markdown",
   "id": "871dd061-b85d-472c-8190-401b5da51d6a",
   "metadata": {},
   "source": [
    "## Author"
   ]
  },
  {
   "cell_type": "markdown",
   "id": "2d621cd3-279e-4ac1-a258-cf2995a2b4c6",
   "metadata": {},
   "source": [
    "Alexander Huyberechts"
   ]
  },
  {
   "cell_type": "code",
   "execution_count": null,
   "id": "01993bdc-afc7-4316-97b0-a9a7e6c06714",
   "metadata": {},
   "outputs": [],
   "source": []
  }
 ],
 "metadata": {
  "kernelspec": {
   "display_name": "Python",
   "language": "python",
   "name": "conda-env-python-py"
  },
  "language_info": {
   "codemirror_mode": {
    "name": "ipython",
    "version": 3
   },
   "file_extension": ".py",
   "mimetype": "text/x-python",
   "name": "python",
   "nbconvert_exporter": "python",
   "pygments_lexer": "ipython3",
   "version": "3.7.12"
  }
 },
 "nbformat": 4,
 "nbformat_minor": 5
}
